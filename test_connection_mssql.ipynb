{
 "cells": [
  {
   "cell_type": "code",
   "execution_count": 3,
   "metadata": {},
   "outputs": [
    {
     "output_type": "stream",
     "name": "stdout",
     "text": "+-----------------+-----------------+-----------+\n| DATABASE_NAME   | DATABASE_SIZE   | REMARKS   |\n|-----------------+-----------------+-----------|\n| master          | 6144            | NULL      |\n| model           | 16384           | NULL      |\n| msdb            | 15616           | NULL      |\n| tempdb          | 16384           | NULL      |\n+-----------------+-----------------+-----------+\nCommands completed successfully.\n"
    }
   ],
   "source": [
    "# Get list of the databases from MS SQL server\n",
    "!mssql-cli -S mssql -U sa -P'#!Gentoo12' -Q \"EXEC sp_databases;\""
   ]
  },
  {
   "cell_type": "code",
   "execution_count": 2,
   "metadata": {},
   "outputs": [
    {
     "output_type": "stream",
     "name": "stdout",
     "text": "+---------------------------------------+\n| Connected!                            |\n|                                       |\n| sql-statement                         |\n| help [tablename]                      |\n| quit                                  |\n|                                       |\n+---------------------------------------+\nSQL>^C"
    }
   ],
   "source": [
    "# Test connectivity to MS SQL through ODBC driver from RStudio\n",
    "!isql test"
   ]
  },
  {
   "cell_type": "code",
   "execution_count": null,
   "metadata": {},
   "outputs": [],
   "source": []
  }
 ],
 "metadata": {
  "kernelspec": {
   "display_name": "Python 3",
   "language": "python",
   "name": "python3"
  },
  "language_info": {
   "codemirror_mode": {
    "name": "ipython",
    "version": 3
   },
   "file_extension": ".py",
   "mimetype": "text/x-python",
   "name": "python",
   "nbconvert_exporter": "python",
   "pygments_lexer": "ipython3",
   "version": "3.8.3-final"
  }
 },
 "nbformat": 4,
 "nbformat_minor": 4
}