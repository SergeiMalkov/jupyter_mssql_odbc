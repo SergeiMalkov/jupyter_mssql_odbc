{
 "cells": [
  {
   "cell_type": "code",
   "execution_count": 1,
   "metadata": {},
   "outputs": [
    {
     "name": "stdout",
     "output_type": "stream",
     "text": [
      "Requirement already satisfied: mssql-cli in /opt/conda/lib/python3.7/site-packages (1.0.0)\n",
      "Requirement already satisfied: configobj>=5.0.6 in /opt/conda/lib/python3.7/site-packages (from mssql-cli) (5.0.6)\n",
      "Requirement already satisfied: click<7.1,>=4.1 in /opt/conda/lib/python3.7/site-packages (from mssql-cli) (7.0)\n",
      "Requirement already satisfied: sqlparse<0.3.0,>=0.2.2 in /opt/conda/lib/python3.7/site-packages (from mssql-cli) (0.2.4)\n",
      "Requirement already satisfied: future>=0.16.0 in /opt/conda/lib/python3.7/site-packages (from mssql-cli) (0.18.2)\n",
      "Requirement already satisfied: prompt-toolkit<2.1.0,>=2.0.0 in /opt/conda/lib/python3.7/site-packages (from mssql-cli) (2.0.10)\n",
      "Requirement already satisfied: applicationinsights>=0.11.1 in /opt/conda/lib/python3.7/site-packages (from mssql-cli) (0.11.9)\n",
      "Requirement already satisfied: argparse>=1.2.1 in /opt/conda/lib/python3.7/site-packages (from mssql-cli) (1.4.0)\n",
      "Requirement already satisfied: enum34>=1.1.6 in /opt/conda/lib/python3.7/site-packages (from mssql-cli) (1.1.10)\n",
      "Requirement already satisfied: wheel>=0.29.0 in /opt/conda/lib/python3.7/site-packages (from mssql-cli) (0.34.2)\n",
      "Requirement already satisfied: Pygments>=2.0 in /opt/conda/lib/python3.7/site-packages (from mssql-cli) (2.6.1)\n",
      "Requirement already satisfied: humanize>=0.5.1 in /opt/conda/lib/python3.7/site-packages (from mssql-cli) (2.4.0)\n",
      "Requirement already satisfied: cli-helpers<1.0.0,>=0.2.3 in /opt/conda/lib/python3.7/site-packages (from mssql-cli) (0.2.3)\n",
      "Requirement already satisfied: six in /opt/conda/lib/python3.7/site-packages (from configobj>=5.0.6->mssql-cli) (1.14.0)\n",
      "Requirement already satisfied: wcwidth in /opt/conda/lib/python3.7/site-packages (from prompt-toolkit<2.1.0,>=2.0.0->mssql-cli) (0.1.9)\n",
      "Requirement already satisfied: backports.csv>=1.0.0 in /opt/conda/lib/python3.7/site-packages (from cli-helpers<1.0.0,>=0.2.3->mssql-cli) (1.0.7)\n",
      "Requirement already satisfied: terminaltables>=3.0.0 in /opt/conda/lib/python3.7/site-packages (from cli-helpers<1.0.0,>=0.2.3->mssql-cli) (3.1.0)\n"
     ]
    }
   ],
   "source": [
    "# Install mssql-cli tool\n",
    "!pip install mssql-cli"
   ]
  },
  {
   "cell_type": "code",
   "execution_count": 2,
   "metadata": {},
   "outputs": [
    {
     "name": "stdout",
     "output_type": "stream",
     "text": [
      "+-----------------+-----------------+-----------+\n",
      "| DATABASE_NAME   | DATABASE_SIZE   | REMARKS   |\n",
      "|-----------------+-----------------+-----------|\n",
      "| master          | 6144            | NULL      |\n",
      "| model           | 16384           | NULL      |\n",
      "| msdb            | 15872           | NULL      |\n",
      "| tempdb          | 16384           | NULL      |\n",
      "+-----------------+-----------------+-----------+\n",
      "Commands completed successfully.\n"
     ]
    }
   ],
   "source": [
    "# Get list of the databases from MS SQL server\n",
    "!mssql-cli -S mssql -U sa -P'#!Gentoo12' -Q \"EXEC sp_databases;\""
   ]
  },
  {
   "cell_type": "code",
   "execution_count": null,
   "metadata": {},
   "outputs": [
    {
     "name": "stdout",
     "output_type": "stream",
     "text": [
      "+---------------------------------------+\n",
      "| Connected!                            |\n",
      "|                                       |\n",
      "| sql-statement                         |\n",
      "| help [tablename]                      |\n",
      "| quit                                  |\n",
      "|                                       |\n",
      "+---------------------------------------+\n",
      "SQL> "
     ]
    }
   ],
   "source": [
    "# Test connectivity to MS SQL through ODBC driver from RStudio\n",
    "!isql test"
   ]
  }
 ],
 "metadata": {
  "kernelspec": {
   "display_name": "Python 3",
   "language": "python",
   "name": "python3"
  },
  "language_info": {
   "codemirror_mode": {
    "name": "ipython",
    "version": 3
   },
   "file_extension": ".py",
   "mimetype": "text/x-python",
   "name": "python",
   "nbconvert_exporter": "python",
   "pygments_lexer": "ipython3",
   "version": "3.7.6"
  }
 },
 "nbformat": 4,
 "nbformat_minor": 4
}
